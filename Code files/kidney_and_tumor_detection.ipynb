{
  "nbformat": 4,
  "nbformat_minor": 0,
  "metadata": {
    "colab": {
      "name": "kidney-and-tumor-detection",
      "provenance": [],
      "collapsed_sections": []
    },
    "kernelspec": {
      "name": "python3",
      "display_name": "Python 3"
    },
    "language_info": {
      "name": "python"
    }
  },
  "cells": [
    {
      "cell_type": "code",
      "source": [
        "from google.colab import drive\n",
        "drive.mount('/content/drive')"
      ],
      "metadata": {
        "colab": {
          "base_uri": "https://localhost:8080/"
        },
        "id": "b0TSdIUzLRRf",
        "outputId": "9ab95096-a880-4f90-9956-e87d8845e116"
      },
      "execution_count": 1,
      "outputs": [
        {
          "output_type": "stream",
          "name": "stdout",
          "text": [
            "Mounted at /content/drive\n"
          ]
        }
      ]
    },
    {
      "cell_type": "code",
      "source": [
        "import cv2,os\n",
        "import numpy as np\n",
        "from keras.utils import np_utils\n",
        "from keras.models import Sequential\n",
        "from keras.layers import  Dense, Activation, Dropout, Conv2D, Flatten, MaxPooling2D\n",
        "from keras.callbacks import ModelCheckpoint\n",
        "from sklearn.model_selection import train_test_split\n",
        "from matplotlib import pyplot as plt\n",
        "from keras.models import load_model"
      ],
      "metadata": {
        "id": "tIp1NORjKZ8N"
      },
      "execution_count": 2,
      "outputs": []
    },
    {
      "cell_type": "code",
      "source": [
        "# data_path = '/content/drive/MyDrive/processed'\n",
        "data_path = '/content/drive/MyDrive/IPCVProjectData/categories/processed'\n",
        "categories = os.listdir(data_path)\n",
        "labels = [i for i in range(len(categories))]\n",
        "label_dict = dict(zip(categories,labels))\n",
        "print(label_dict)\n",
        "print(categories)\n",
        "print(labels)"
      ],
      "metadata": {
        "colab": {
          "base_uri": "https://localhost:8080/"
        },
        "id": "kR1sC538Lj_q",
        "outputId": "84cca431-23c1-4512-8f9a-b4bd85fbcbdc"
      },
      "execution_count": 3,
      "outputs": [
        {
          "output_type": "stream",
          "name": "stdout",
          "text": [
            "{'processed_normal': 0, 'processed_stone': 1, 'processed-tumor': 2}\n",
            "['processed_normal', 'processed_stone', 'processed-tumor']\n",
            "[0, 1, 2]\n"
          ]
        }
      ]
    },
    {
      "cell_type": "code",
      "source": [
        "img_size = 150\n",
        "data = []\n",
        "target = []\n",
        "for category in categories:\n",
        "    folder_path = os.path.join(data_path,category) \n",
        "    img_names = os.listdir(folder_path)\n",
        "    \n",
        "    for img_name in img_names:\n",
        "        img_path = os.path.join(folder_path,img_name)\n",
        "        img = cv2.imread(img_path)\n",
        "        try:\n",
        "            gray = cv2.cvtColor(img,cv2.COLOR_BGR2GRAY)\n",
        "            resized = cv2.resize(gray,(img_size,img_size))\n",
        "            data.append(resized)\n",
        "            target.append(label_dict[category])\n",
        "        \n",
        "        except Exception as e:\n",
        "            print(\"Exception: \",e)"
      ],
      "metadata": {
        "id": "8-wE2zR6M0fb"
      },
      "execution_count": 4,
      "outputs": []
    },
    {
      "cell_type": "code",
      "source": [
        "data = np.array(data)/255.0  #data values are normalized\n",
        "#reshaping of data                                                \n",
        "data = np.reshape(data,(data.shape[0],img_size,img_size,1))\n",
        "target = np.array(target)\n",
        "new_target = np_utils.to_categorical(target)\n",
        "#saving the files                                \n",
        "np.save('data',data)\n",
        "np.save('target',new_target)"
      ],
      "metadata": {
        "id": "xJCHcDn8NLx8"
      },
      "execution_count": 5,
      "outputs": []
    },
    {
      "cell_type": "code",
      "source": [
        "data = np.load('data.npy')\n",
        "target = np.load('target.npy')\n",
        "model = Sequential()\n",
        "model.add(Conv2D(100,(3,3),input_shape=data.shape[1:]))\n",
        "model.add(Activation('relu'))\n",
        "model.add(MaxPooling2D(pool_size=(3,3)))\n",
        "model.add(Flatten())\n",
        "model.add(Dropout(0.5))\n",
        "model.add(Dense(50,activation='relu'))\n",
        "model.add(Dense(3,activation='softmax'))\n",
        "model.compile(optimizer='adam', loss='categorical_crossentropy', metrics = ['acc'])\n",
        "model.summary()"
      ],
      "metadata": {
        "colab": {
          "base_uri": "https://localhost:8080/"
        },
        "id": "WPOxpVZvNUoU",
        "outputId": "ea96039c-55dd-4f58-ab20-c2ac19188a2e"
      },
      "execution_count": 24,
      "outputs": [
        {
          "output_type": "stream",
          "name": "stdout",
          "text": [
            "Model: \"sequential_6\"\n",
            "_________________________________________________________________\n",
            " Layer (type)                Output Shape              Param #   \n",
            "=================================================================\n",
            " conv2d_6 (Conv2D)           (None, 148, 148, 100)     1000      \n",
            "                                                                 \n",
            " activation_6 (Activation)   (None, 148, 148, 100)     0         \n",
            "                                                                 \n",
            " max_pooling2d_6 (MaxPooling  (None, 49, 49, 100)      0         \n",
            " 2D)                                                             \n",
            "                                                                 \n",
            " flatten_5 (Flatten)         (None, 240100)            0         \n",
            "                                                                 \n",
            " dropout_4 (Dropout)         (None, 240100)            0         \n",
            "                                                                 \n",
            " dense_8 (Dense)             (None, 50)                12005050  \n",
            "                                                                 \n",
            " dense_9 (Dense)             (None, 3)                 153       \n",
            "                                                                 \n",
            "=================================================================\n",
            "Total params: 12,006,203\n",
            "Trainable params: 12,006,203\n",
            "Non-trainable params: 0\n",
            "_________________________________________________________________\n"
          ]
        }
      ]
    },
    {
      "cell_type": "code",
      "source": [
        "train_data, test_data, train_target, test_target = train_test_split(data, target, test_size=0.2)"
      ],
      "metadata": {
        "id": "i56Lnoa_NZmA"
      },
      "execution_count": 25,
      "outputs": []
    },
    {
      "cell_type": "code",
      "source": [
        "checkpoint=ModelCheckpoint('model-{epoch:03d}.model', monitor='val_loss', verbose = 0, save_best_only = True,mode='auto')\n",
        "history = model.fit(train_data,train_target,epochs = 15, callbacks = [checkpoint], validation_split = 0.2)"
      ],
      "metadata": {
        "colab": {
          "base_uri": "https://localhost:8080/"
        },
        "id": "cPNzzmcCNaUv",
        "outputId": "b58d1a57-708b-4dd6-d2f7-80122439978e"
      },
      "execution_count": 26,
      "outputs": [
        {
          "output_type": "stream",
          "name": "stdout",
          "text": [
            "Epoch 1/15\n",
            "110/110 [==============================] - ETA: 0s - loss: 0.2654 - acc: 0.8967INFO:tensorflow:Assets written to: model-001.model/assets\n",
            "110/110 [==============================] - 93s 834ms/step - loss: 0.2654 - acc: 0.8967 - val_loss: 0.1030 - val_acc: 0.9668\n",
            "Epoch 2/15\n",
            "110/110 [==============================] - ETA: 0s - loss: 0.0670 - acc: 0.9808INFO:tensorflow:Assets written to: model-002.model/assets\n",
            "110/110 [==============================] - 94s 858ms/step - loss: 0.0670 - acc: 0.9808 - val_loss: 0.0674 - val_acc: 0.9760\n",
            "Epoch 3/15\n",
            "110/110 [==============================] - ETA: 0s - loss: 0.0239 - acc: 0.9934INFO:tensorflow:Assets written to: model-003.model/assets\n",
            "110/110 [==============================] - 92s 833ms/step - loss: 0.0239 - acc: 0.9934 - val_loss: 0.0560 - val_acc: 0.9840\n",
            "Epoch 4/15\n",
            "110/110 [==============================] - ETA: 0s - loss: 0.0142 - acc: 0.9963INFO:tensorflow:Assets written to: model-004.model/assets\n",
            "110/110 [==============================] - 91s 828ms/step - loss: 0.0142 - acc: 0.9963 - val_loss: 0.0317 - val_acc: 0.9908\n",
            "Epoch 5/15\n",
            "110/110 [==============================] - 87s 795ms/step - loss: 0.0101 - acc: 0.9980 - val_loss: 0.0362 - val_acc: 0.9897\n",
            "Epoch 6/15\n",
            "110/110 [==============================] - 95s 861ms/step - loss: 0.0041 - acc: 0.9994 - val_loss: 0.0424 - val_acc: 0.9897\n",
            "Epoch 7/15\n",
            "110/110 [==============================] - ETA: 0s - loss: 0.0023 - acc: 1.0000INFO:tensorflow:Assets written to: model-007.model/assets\n",
            "110/110 [==============================] - 94s 852ms/step - loss: 0.0023 - acc: 1.0000 - val_loss: 0.0292 - val_acc: 0.9931\n",
            "Epoch 8/15\n",
            "110/110 [==============================] - ETA: 0s - loss: 0.0014 - acc: 1.0000INFO:tensorflow:Assets written to: model-008.model/assets\n",
            "110/110 [==============================] - 97s 881ms/step - loss: 0.0014 - acc: 1.0000 - val_loss: 0.0290 - val_acc: 0.9931\n",
            "Epoch 9/15\n",
            "110/110 [==============================] - 97s 878ms/step - loss: 9.7927e-04 - acc: 1.0000 - val_loss: 0.0375 - val_acc: 0.9897\n",
            "Epoch 10/15\n",
            "110/110 [==============================] - 92s 833ms/step - loss: 7.6985e-04 - acc: 1.0000 - val_loss: 0.0323 - val_acc: 0.9920\n",
            "Epoch 11/15\n",
            "110/110 [==============================] - 88s 799ms/step - loss: 0.0223 - acc: 0.9928 - val_loss: 0.0621 - val_acc: 0.9805\n",
            "Epoch 12/15\n",
            "110/110 [==============================] - 91s 825ms/step - loss: 0.0124 - acc: 0.9969 - val_loss: 0.0416 - val_acc: 0.9908\n",
            "Epoch 13/15\n",
            "110/110 [==============================] - 90s 820ms/step - loss: 0.0034 - acc: 0.9994 - val_loss: 0.0403 - val_acc: 0.9920\n",
            "Epoch 14/15\n",
            "110/110 [==============================] - 90s 818ms/step - loss: 0.0013 - acc: 1.0000 - val_loss: 0.0414 - val_acc: 0.9908\n",
            "Epoch 15/15\n",
            "110/110 [==============================] - 89s 810ms/step - loss: 3.5274e-04 - acc: 1.0000 - val_loss: 0.0352 - val_acc: 0.9920\n"
          ]
        }
      ]
    },
    {
      "cell_type": "code",
      "source": [
        "print(model.evaluate(test_data,test_target))"
      ],
      "metadata": {
        "id": "ctcZ7xfZOolA",
        "colab": {
          "base_uri": "https://localhost:8080/"
        },
        "outputId": "97b9084b-066f-4e1f-a322-c3290f23c6a3"
      },
      "execution_count": 27,
      "outputs": [
        {
          "output_type": "stream",
          "name": "stdout",
          "text": [
            "35/35 [==============================] - 6s 162ms/step - loss: 0.0338 - acc: 0.9945\n",
            "[0.03378056362271309, 0.9945105314254761]\n"
          ]
        }
      ]
    },
    {
      "cell_type": "code",
      "source": [
        "plt.plot(history.history['acc'],'r',label='training accuracy')\n",
        "tacc=[]\n",
        "vacc=[]\n",
        "for i in history.history['acc']:\n",
        "  tacc.append(i-15)\n",
        "\n",
        "for i in history.history['val_acc']:\n",
        "  tacc.append(i-15)\n",
        "\n",
        "\n",
        "plt.plot(history.history['val_acc'],'b',label='validation accuracy')\n",
        "plt.xlabel('epochs')\n",
        "plt.ylabel('accuracy')\n",
        "plt.legend()\n",
        "plt.show()\n",
        "plt.plot(history.history['loss'],'r',label='training loss')\n",
        "plt.plot(history.history['val_loss'],'b',label='validation loss')\n",
        "plt.xlabel('epochs')\n",
        "plt.ylabel('loss')\n",
        "plt.legend()\n",
        "plt.show()"
      ],
      "metadata": {
        "id": "HPE0oBApOrwI",
        "colab": {
          "base_uri": "https://localhost:8080/",
          "height": 541
        },
        "outputId": "ed644cc1-a91b-4b3f-8404-21f47a6648a6"
      },
      "execution_count": 28,
      "outputs": [
        {
          "output_type": "display_data",
          "data": {
            "text/plain": [
              "<Figure size 432x288 with 1 Axes>"
            ],
            "image/png": "[encoded data removed]"
          },
          "metadata": {
            "needs_background": "light"
          }
        },
        {
          "output_type": "display_data",
          "data": {
            "text/plain": [
              "<Figure size 432x288 with 1 Axes>"
            ],
            "image/png": "[encoded data removed]"
          },
          "metadata": {
            "needs_background": "light"
          }
        }
      ]
    },
    {
      "cell_type": "code",
      "source": [
        "from keras.models import Model\n",
        "model.save(\"cnn_15ep.h5\")"
      ],
      "metadata": {
        "id": "qAVqEWbx0VCW"
      },
      "execution_count": 30,
      "outputs": []
    }
  ]
}